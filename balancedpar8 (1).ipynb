{
 "cells": [
  {
   "cell_type": "code",
   "execution_count": 4,
   "id": "a04e764b",
   "metadata": {},
   "outputs": [
    {
     "name": "stdout",
     "output_type": "stream",
     "text": [
      "Balanced\n",
      "Not Balanced\n"
     ]
    }
   ],
   "source": [
    "def isBalanced(exp):\n",
    " \n",
    "   \n",
    "    flag = True\n",
    "    count = 0\n",
    " \n",
    "    for i in range(len(exp)):\n",
    "        if (exp[i] == '('):\n",
    "            count += 1\n",
    "        else:\n",
    "             \n",
    "            count -= 1\n",
    " \n",
    "        if (count < 0):\n",
    " \n",
    "            flag = False\n",
    "            break\n",
    " \n",
    "\n",
    "    if (count != 0):\n",
    "        flag = False\n",
    "    return flag\n",
    "if __name__ == '__main__':\n",
    "     \n",
    " \n",
    "    exp1 = \"((()))()()\"\n",
    " \n",
    "    if (isBalanced(exp1)):\n",
    "        print(\"Balanced\")\n",
    "    else:\n",
    "        print(\"Not Balanced\")\n",
    " \n",
    "    exp2 = \"())((())\"\n",
    " \n",
    "    if (isBalanced(exp2)):\n",
    "        print(\"Balanced\")\n",
    "    else:\n",
    "        print(\"Not Balanced\")\n",
    " "
   ]
  },
  {
   "cell_type": "code",
   "execution_count": null,
   "id": "04dd11c4",
   "metadata": {},
   "outputs": [],
   "source": []
  }
 ],
 "metadata": {
  "kernelspec": {
   "display_name": "Python 3 (ipykernel)",
   "language": "python",
   "name": "python3"
  },
  "language_info": {
   "codemirror_mode": {
    "name": "ipython",
    "version": 3
   },
   "file_extension": ".py",
   "mimetype": "text/x-python",
   "name": "python",
   "nbconvert_exporter": "python",
   "pygments_lexer": "ipython3",
   "version": "3.9.12"
  }
 },
 "nbformat": 4,
 "nbformat_minor": 5
}
